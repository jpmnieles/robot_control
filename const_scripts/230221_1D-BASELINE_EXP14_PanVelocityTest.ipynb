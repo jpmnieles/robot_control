{
 "cells": [
  {
   "cell_type": "markdown",
   "id": "e86b90be",
   "metadata": {},
   "source": [
    "# [1D-BASELINE] Exp14: Pan Velocity Test"
   ]
  },
  {
   "cell_type": "markdown",
   "id": "58b94ef8",
   "metadata": {},
   "source": [
    "## Import"
   ]
  },
  {
   "cell_type": "code",
   "execution_count": 2,
   "id": "feb61ce8",
   "metadata": {
    "ExecuteTime": {
     "end_time": "2023-02-21T14:38:16.714135Z",
     "start_time": "2023-02-21T14:38:16.700222Z"
    }
   },
   "outputs": [],
   "source": [
    "import os\n",
    "import sys\n",
    "sys.path.append(os.path.abspath('..'))"
   ]
  },
  {
   "cell_type": "code",
   "execution_count": 3,
   "id": "824c820f",
   "metadata": {
    "ExecuteTime": {
     "end_time": "2023-02-21T14:38:17.708521Z",
     "start_time": "2023-02-21T14:38:16.965878Z"
    }
   },
   "outputs": [],
   "source": [
    "import pickle\n",
    "import math\n",
    "import numpy as np\n",
    "import cv2 as cv\n",
    "import matplotlib.pyplot as plt\n",
    "import pandas as pd"
   ]
  },
  {
   "cell_type": "code",
   "execution_count": 4,
   "id": "3c1b13c8",
   "metadata": {
    "ExecuteTime": {
     "end_time": "2023-02-21T14:38:17.974046Z",
     "start_time": "2023-02-21T14:38:17.962044Z"
    }
   },
   "outputs": [],
   "source": [
    "import datetime\n",
    "import time\n",
    "from IPython.display import clear_output"
   ]
  },
  {
   "cell_type": "code",
   "execution_count": 5,
   "id": "96883d3a",
   "metadata": {
    "ExecuteTime": {
     "end_time": "2023-02-21T14:38:18.590269Z",
     "start_time": "2023-02-21T14:38:18.222161Z"
    }
   },
   "outputs": [],
   "source": [
    "from grace.system import Grace\n",
    "from grace.capture import LeftEyeCapture, RightEyeCapture\n",
    "from grace.utils import get_center_chessboard_point, generate_triangle_wave"
   ]
  },
  {
   "cell_type": "markdown",
   "id": "681ff16b",
   "metadata": {},
   "source": [
    "## Initialization"
   ]
  },
  {
   "cell_type": "code",
   "execution_count": 6,
   "id": "fde30cd4",
   "metadata": {
    "ExecuteTime": {
     "end_time": "2023-02-21T13:31:09.533208Z",
     "start_time": "2023-02-21T13:31:03.785901Z"
    }
   },
   "outputs": [
    {
     "name": "stdout",
     "output_type": "stream",
     "text": [
      "[ROS Client] ROS Connection Successful at http://BodyNC-NUC:9090\n"
     ]
    }
   ],
   "source": [
    "# Instantiation\n",
    "grace = Grace(degrees=True)\n",
    "left_cam = LeftEyeCapture()"
   ]
  },
  {
   "cell_type": "code",
   "execution_count": 12,
   "id": "aaba78a0",
   "metadata": {
    "ExecuteTime": {
     "end_time": "2023-02-21T14:39:05.661996Z",
     "start_time": "2023-02-21T14:39:05.637984Z"
    },
    "code_folding": [
     0
    ]
   },
   "outputs": [],
   "source": [
    "# Experiment Helper Functions\n",
    "\n",
    "def px_to_deg_fx(x):\n",
    "    x = math.atan(x/581.0651)  # fx = 518.0651. fy = 581.0060\n",
    "    x = math.degrees(x)\n",
    "    return x\n",
    "\n",
    "def save_pickle_data(data, camera: str, name: str):\n",
    "    # Making Directory\n",
    "    filename = datetime.datetime.now().strftime(\"%Y%m%d_%H%M%S_%f\") + \"_\" + camera + \"_\" + name\n",
    "    filepath = os.path.join(os.path.abspath(\"..\"), \"results\", filename)\n",
    "\n",
    "    # Saving to Pickle File\n",
    "    with open(filepath + \".pickle\", 'wb') as file:\n",
    "        pickle.dump(data, file)\n",
    "    print('Data saved in:', filepath + \".pickle\")\n",
    "    return filepath + \".pickle\"\n",
    "\n",
    "def slow_reset():\n",
    "    grace.slow_move_left_eye_pan(angle=-8, step_size=0.0879, time_interval=0.015)\n",
    "    state = grace.slow_centering_eyes()\n",
    "    return state\n",
    "    \n",
    "def tilt_slow_reset():\n",
    "    slow_reset()\n",
    "    state = grace.move_left_eye((None, 0))\n",
    "    return state\n",
    "    \n",
    "def generate_graphs(data, tilt, x_org):\n",
    "    tilt_idx = tilt_arr.index(tilt)\n",
    "    \n",
    "    # Input Array\n",
    "    plt.figure()\n",
    "    input_arr  = data[\"input_arr\"]\n",
    "    plt.plot(input_arr, marker='.',)\n",
    "    plt.ylim([-20, 20])\n",
    "    plt.xlabel('Samples')\n",
    "    plt.ylabel('Input Angle (deg)')\n",
    "    plt.title('Input Motor Command')\n",
    "    \n",
    "    \n",
    "    ### ('=============Initial Pixel===============')\n",
    "    \n",
    "    # Pixel vs Input Array (Raw)\n",
    "    raw_x_pixel_arr = [x[0] for x in data[\"init_arr\"][tilt_idx]]\n",
    "    plt.figure()\n",
    "    plt.plot(input_arr, raw_x_pixel_arr, color='orange', marker='.', linestyle=\"None\")\n",
    "    plt.xlabel('Input Angle (deg)')\n",
    "    plt.ylabel('Pixel X Value')\n",
    "    plt.title('{Initial Raw Pixel Position')\n",
    "    plt.grid()\n",
    "    \n",
    "    # Pixel vs Input Array (Raw)\n",
    "    x_pixel_arr = [x_org-x[0] for x in data[\"init_arr\"][tilt_idx]]\n",
    "    plt.figure()\n",
    "    plt.plot(input_arr, x_pixel_arr, color='orange', marker='.',  linestyle=\"None\")\n",
    "    plt.xlabel('Input Angle (deg)')\n",
    "    plt.ylabel('Delta Pixel X Value (wrt 320 px)')\n",
    "    plt.title('Initial Raw Pixel Position')\n",
    "    plt.grid()\n",
    "    \n",
    "    # Time Series Eye Output vs Input Array\n",
    "    phi = [px_to_deg_fx(x_org-x[0]) for x in data[\"init_arr\"][tilt_idx]]\n",
    "\n",
    "    # Eye Output vs Input Array\n",
    "    plt.figure()\n",
    "    plt.plot(input_arr, phi, color=\"orange\", marker='.', linestyle=\"None\")\n",
    "    plt.xlabel('Input Command')\n",
    "    plt.ylabel('Eye Output')\n",
    "    plt.title('Initial Pixel Robot Data')\n",
    "    plt.grid()    \n",
    "    \n",
    "    # Histogram (Pixels)\n",
    "    plt.figure()\n",
    "    plt.hist(x_pixel_arr)\n",
    "    plt.xlabel(\"pixels\")\n",
    "    plt.ylabel(\"n\")\n",
    "    plt.title(\"Initial Pixel Distribution\")\n",
    "    mean_val = np.mean(np.array(x_pixel_arr))\n",
    "    std_val = np.std(np.array(x_pixel_arr))\n",
    "    print(\"Init Mean (px):\", mean_val)\n",
    "    print(\"Init Std (px):\", std_val)\n",
    "    \n",
    "    \n",
    "    # Histogram (Angle)\n",
    "    plt.figure()\n",
    "    plt.hist(phi)\n",
    "    plt.xlabel(\"degrees\")\n",
    "    plt.ylabel(\"n\")\n",
    "    plt.title(\"Initial Angle Distribution\")\n",
    "    mean_val = np.mean(np.array(phi))\n",
    "    std_val = np.std(np.array(phi))\n",
    "    print(\"Init Mean (deg):\", mean_val)\n",
    "    print(\"Init Std (deg):\", std_val)\n",
    "    \n",
    "    \n",
    "    ### ('=============Pixel===============')\n",
    "    \n",
    "    # Pixel vs Input Array (Raw)\n",
    "    raw_x_pixel_arr = [x[0] for x in data[\"pixel_arr\"][tilt_idx]]\n",
    "    plt.figure()\n",
    "    plt.plot(input_arr, raw_x_pixel_arr, color='orange', marker='.', linestyle=\"None\")\n",
    "    plt.xlabel('Input Angle (deg)')\n",
    "    plt.ylabel('Pixel X Value')\n",
    "    plt.title('Raw Pixel Position')\n",
    "    plt.grid()\n",
    "    \n",
    "    # Pixel vs Input Array (Raw)\n",
    "    x_pixel_arr = [x_org-x[0] for x in data[\"pixel_arr\"][tilt_idx]]\n",
    "    plt.figure()\n",
    "    plt.plot(input_arr, x_pixel_arr, color='orange', marker='.',  linestyle=\"None\")\n",
    "    plt.xlabel('Input Angle (deg)')\n",
    "    plt.ylabel('Delta Pixel X Value (wrt 320 px)')\n",
    "    plt.title('Raw Pixel Position')\n",
    "    plt.grid()\n",
    "    \n",
    "    # Time Series Eye Output vs Input Array\n",
    "    phi = [px_to_deg_fx(x_org-x[0]) for x in data[\"pixel_arr\"][tilt_idx]]\n",
    "\n",
    "    # Eye Output vs Input Array\n",
    "    plt.figure()\n",
    "    plt.plot(input_arr, phi, color=\"orange\", marker='.', linestyle=\"None\")\n",
    "    plt.xlabel('Input Command')\n",
    "    plt.ylabel('Eye Output')\n",
    "    plt.title('Robot Data')\n",
    "    plt.grid() \n",
    "    \n",
    "    # Histogram (Pixels)\n",
    "    plt.figure()\n",
    "    plt.hist(x_pixel_arr)\n",
    "    plt.xlabel(\"pixels\")\n",
    "    plt.ylabel(\"n\")\n",
    "    plt.title(\"Target Pixel Distribution\")\n",
    "    mean_val = np.mean(np.array(x_pixel_arr))\n",
    "    std_val = np.std(np.array(x_pixel_arr))\n",
    "    print(\"Target Mean (px):\", mean_val)\n",
    "    print(\"Target Std (px):\", std_val)\n",
    "    \n",
    "    \n",
    "    # Histogram (Angle)\n",
    "    plt.figure()\n",
    "    plt.hist(phi)\n",
    "    plt.xlabel(\"degrees\")\n",
    "    plt.ylabel(\"n\")\n",
    "    plt.title(\"Target Angle Distribution\")\n",
    "    mean_val = np.mean(np.array(phi))\n",
    "    std_val = np.std(np.array(phi))\n",
    "    print(\"Target Mean (deg):\", mean_val)\n",
    "    print(\"Target Std (deg):\", std_val)\n",
    "    "
   ]
  },
  {
   "cell_type": "code",
   "execution_count": 15,
   "id": "3538089f",
   "metadata": {
    "ExecuteTime": {
     "end_time": "2023-02-21T14:39:18.219667Z",
     "start_time": "2023-02-21T14:39:18.211664Z"
    }
   },
   "outputs": [],
   "source": [
    "# Logarithmic Scale Input\n",
    "\n",
    "max_pan = 16"
   ]
  },
  {
   "cell_type": "code",
   "execution_count": 16,
   "id": "25f869a4",
   "metadata": {
    "ExecuteTime": {
     "end_time": "2023-02-21T14:39:18.762089Z",
     "start_time": "2023-02-21T14:39:18.756088Z"
    }
   },
   "outputs": [
    {
     "name": "stdout",
     "output_type": "stream",
     "text": [
      "['0.1', '0.2', '0.3', '0.4', '0.5', '0.6', '0.7', '0.8', '0.9', '1.0', '2.0', '3.0', '4.0', '5.0', '6.0', '7.0', '8.0', '9.0', '10.0']\n"
     ]
    }
   ],
   "source": [
    "# Logarithmic Calculation\n",
    "\n",
    "mult = 0.01\n",
    "log_cmd = []\n",
    "log_cmd_str = []\n",
    "for i in range(3):\n",
    "    mult = mult*10\n",
    "    for j in range(1,10):\n",
    "        tmp = mult*j\n",
    "        if tmp < max_pan:\n",
    "            log_cmd.append(tmp)\n",
    "            log_cmd_str.append(\"%.1f\"%tmp)\n",
    "        else:\n",
    "            break\n",
    "\n",
    "print(log_cmd_str)"
   ]
  },
  {
   "cell_type": "code",
   "execution_count": 10,
   "id": "760fdd68",
   "metadata": {
    "ExecuteTime": {
     "end_time": "2023-02-21T13:31:15.609170Z",
     "start_time": "2023-02-21T13:31:15.595167Z"
    }
   },
   "outputs": [],
   "source": [
    "# Initialization\n",
    "\n",
    "pickle_data = {\n",
    "    \"title\": \"[1D-BASELINE] Exp14: PanVelocityTest\",\n",
    "    \"description\": None,\n",
    "    \"data_label\": log_cmd_str,\n",
    "    \"data\": None,\n",
    "    \"datetime\": datetime.datetime.now().strftime(\"%Y%m%d_%H%M%S_%f\")\n",
    "}\n",
    "\n",
    "data_list = []"
   ]
  },
  {
   "cell_type": "code",
   "execution_count": 11,
   "id": "a2cc188f",
   "metadata": {
    "ExecuteTime": {
     "end_time": "2023-02-21T13:31:22.445931Z",
     "start_time": "2023-02-21T13:31:16.635271Z"
    }
   },
   "outputs": [
    {
     "name": "stdout",
     "output_type": "stream",
     "text": [
      "(0.0, 0.0)\n",
      "[321.9222717285156, 239.703857421875]\n"
     ]
    }
   ],
   "source": [
    "# Center the left eye\n",
    "\n",
    "state = tilt_slow_reset()\n",
    "pixel_state = get_center_chessboard_point(left_cam.frame)\n",
    "print(state)\n",
    "print(pixel_state)"
   ]
  },
  {
   "cell_type": "markdown",
   "id": "44765926",
   "metadata": {},
   "source": [
    "## Looping of Amplitude"
   ]
  },
  {
   "cell_type": "code",
   "execution_count": 12,
   "id": "92b552ef",
   "metadata": {
    "ExecuteTime": {
     "end_time": "2023-02-21T13:46:51.346794Z",
     "start_time": "2023-02-21T13:31:23.914290Z"
    }
   },
   "outputs": [
    {
     "name": "stdout",
     "output_type": "stream",
     "text": [
      "5/5\n",
      "pan:10.0, tilt:0\n",
      "Elapsed Time: 53.28135323524475\n"
     ]
    }
   ],
   "source": [
    "\n",
    "trials = 5\n",
    "time_interval = 0.015  # sec\n",
    "tilt_arr = [0]\n",
    "\n",
    "for input in log_cmd:\n",
    "    # Initialize Data\n",
    "    data = {\n",
    "        \"tilt_arr\": [],  # Designated tilt of the pan sweep \n",
    "        \"input_arr\": [],  # Data points or Triangle Wave\n",
    "        \"init_arr\": [],  # Initial data points as point of reference\n",
    "        \"pixel_arr\": [],  # row: tilt value, column: pan value\n",
    "        \"initial_motor_state\": [],  # Motor state before experiment\n",
    "        \"initial_pixel_state\": [],  # Pixel state before experiment\n",
    "        \"end_motor_state\": [],  # Motor state after experiment\n",
    "        \"end_pixel_state\": []  # Pixel state after experiment\n",
    "    }\n",
    "\n",
    "\n",
    "    # Generation of triangle wave\n",
    "\n",
    "    input_arr = [input]*trials\n",
    "    print(input_arr)  \n",
    "\n",
    "    # Experiment Sweep\n",
    "\n",
    "    data[\"tilt_arr\"] = tilt_arr\n",
    "    data[\"input_arr\"] = input_arr\n",
    "\n",
    "    start = time.time()\n",
    "\n",
    "    # Initial State\n",
    "    tilt_slow_reset()\n",
    "    time.sleep(0.75)\n",
    "\n",
    "\n",
    "    cnt = 0\n",
    "    for tilt in tilt_arr:\n",
    "        init_arr = []\n",
    "        pixel_arr = []\n",
    "        data[\"initial_motor_state\"].append(grace.state)\n",
    "        data[\"initial_pixel_state\"].append(get_center_chessboard_point(left_cam.frame))\n",
    "        for pan in input_arr:\n",
    "            cnt+=1\n",
    "            clear_output(wait=True)\n",
    "\n",
    "\n",
    "            # Init Position\n",
    "            in_cnt = 0\n",
    "            while(in_cnt < 5):\n",
    "                try:\n",
    "                    init_pixel_pt = get_center_chessboard_point(left_cam.frame)\n",
    "                except:\n",
    "                    pass\n",
    "                else:\n",
    "                    break\n",
    "                in_cnt+=1\n",
    "            init_arr.append(init_pixel_pt)\n",
    "\n",
    "\n",
    "            # Fast Move\n",
    "            state = grace.direct_move_left_eye((pan, tilt))\n",
    "            time.sleep(0.75)\n",
    "\n",
    "            in_cnt = 0\n",
    "            while(in_cnt < 5):\n",
    "                try:\n",
    "                    pixel_pt = get_center_chessboard_point(left_cam.frame)\n",
    "                except:\n",
    "                    pass\n",
    "                else:\n",
    "                    break\n",
    "                in_cnt+=1\n",
    "            pixel_arr.append(pixel_pt)\n",
    "\n",
    "\n",
    "            # Slow Centering Eyes\n",
    "            state = tilt_slow_reset()\n",
    "            time.sleep(time_interval)\n",
    "\n",
    "            print(f\"{cnt}/{len(input_arr)*len(tilt_arr)}\")\n",
    "            print(f\"pan:{pan}, tilt:{tilt}\")\n",
    "\n",
    "        data[\"pixel_arr\"].append(pixel_arr)\n",
    "        data[\"init_arr\"].append(init_arr)\n",
    "\n",
    "\n",
    "        # End State\n",
    "        tilt_slow_reset()\n",
    "        time.sleep(0.75)\n",
    "        data[\"end_motor_state\"].append(grace.state)\n",
    "        data[\"end_pixel_state\"].append(get_center_chessboard_point(left_cam.frame))\n",
    "\n",
    "    print(\"Elapsed Time:\", time.time()-start)\n",
    "    \n",
    "    # Append of Data    \n",
    "    data_list.append(data)"
   ]
  },
  {
   "cell_type": "code",
   "execution_count": null,
   "id": "4e58ad95",
   "metadata": {},
   "outputs": [],
   "source": []
  },
  {
   "cell_type": "markdown",
   "id": "94effae4",
   "metadata": {},
   "source": [
    "# Saving the Data"
   ]
  },
  {
   "cell_type": "code",
   "execution_count": 13,
   "id": "5ae40b29",
   "metadata": {
    "ExecuteTime": {
     "end_time": "2023-02-21T13:47:57.469509Z",
     "start_time": "2023-02-21T13:47:57.453506Z"
    }
   },
   "outputs": [
    {
     "name": "stdout",
     "output_type": "stream",
     "text": [
      "Data saved in: C:\\dev\\robot_control\\results\\20230221_214757_454506_left_1D-BASELINE_EXP14_PanVelocityTest.pickle\n"
     ]
    }
   ],
   "source": [
    "pickle_data[\"data\"] = data_list\n",
    "data_filepath = save_pickle_data(pickle_data, camera=\"left\", name=\"1D-BASELINE_EXP14_PanVelocityTest\")"
   ]
  },
  {
   "cell_type": "markdown",
   "id": "17c22e31",
   "metadata": {},
   "source": [
    "# Loading the Data"
   ]
  },
  {
   "cell_type": "code",
   "execution_count": 8,
   "id": "052c2c47",
   "metadata": {
    "ExecuteTime": {
     "end_time": "2023-02-21T14:38:55.461066Z",
     "start_time": "2023-02-21T14:38:55.446062Z"
    }
   },
   "outputs": [],
   "source": [
    "# Opening of Pickle File\n",
    "filename = \"20230221_214757_454506_left_1D-BASELINE_EXP14_PanVelocityTest.pickle\"\n",
    "data_filepath = os.path.join(os.path.abspath(\"..\"), \"results/\"+filename)"
   ]
  },
  {
   "cell_type": "code",
   "execution_count": 9,
   "id": "e13b72ca",
   "metadata": {
    "ExecuteTime": {
     "end_time": "2023-02-21T14:38:56.050233Z",
     "start_time": "2023-02-21T14:38:56.036229Z"
    }
   },
   "outputs": [],
   "source": [
    "# Opening of Pickle File\n",
    "\n",
    "with open(data_filepath, 'rb') as file:\n",
    "    data_load = pickle.load(file)"
   ]
  },
  {
   "cell_type": "markdown",
   "id": "307818a3",
   "metadata": {},
   "source": [
    "## Data Analysis"
   ]
  },
  {
   "cell_type": "code",
   "execution_count": 10,
   "id": "18838948",
   "metadata": {
    "ExecuteTime": {
     "end_time": "2023-02-21T14:38:58.174412Z",
     "start_time": "2023-02-21T14:38:58.165409Z"
    }
   },
   "outputs": [],
   "source": [
    "def random_colors(n):\n",
    "    return np.random.rand(n,3)\n",
    "\n",
    "rand_colors = random_colors(len(data_load[\"data\"]))"
   ]
  },
  {
   "cell_type": "code",
   "execution_count": 17,
   "id": "23750f98",
   "metadata": {
    "ExecuteTime": {
     "end_time": "2023-02-21T14:39:27.261271Z",
     "start_time": "2023-02-21T14:39:27.061227Z"
    }
   },
   "outputs": [
    {
     "data": {
      "text/plain": [
       "Text(0.5, 1.0, 'Overshoot Test')"
      ]
     },
     "execution_count": 17,
     "metadata": {},
     "output_type": "execute_result"
    },
    {
     "data": {
      "image/png": "[encoded data removed]",
      "text/plain": [
       "<Figure size 640x480 with 1 Axes>"
      ]
     },
     "metadata": {},
     "output_type": "display_data"
    }
   ],
   "source": [
    "# Parameter\n",
    "x_org = 320\n",
    "tilt_idx = 0\n",
    "\n",
    "\n",
    "for i in range(len(data_load[\"data\"])):\n",
    "    input_arr = data_load[\"data\"][i][\"input_arr\"]\n",
    "    phi = [px_to_deg_fx(x_org-x[0]) for x in data_load[\"data\"][i][\"pixel_arr\"][tilt_idx]]\n",
    "\n",
    "    # Eye Output vs Input Array\n",
    "    plt.plot(input_arr, phi, marker='.', linestyle=None, color=rand_colors[i])\n",
    "plt.xlim([-2, 14])\n",
    "plt.ylim([-2, 16])\n",
    "plt.grid()\n",
    "plt.legend(log_cmd_str, fontsize=8)\n",
    "plt.xlabel('Motor Input, θ (deg)')\n",
    "plt.ylabel('Eye Output, φ (deg)')\n",
    "plt.title('Overshoot Test')"
   ]
  },
  {
   "cell_type": "code",
   "execution_count": 18,
   "id": "2c7fe8bc",
   "metadata": {
    "ExecuteTime": {
     "end_time": "2023-02-21T14:39:30.466791Z",
     "start_time": "2023-02-21T14:39:30.260745Z"
    }
   },
   "outputs": [
    {
     "data": {
      "image/png": "[encoded data removed]",
      "text/plain": [
       "<Figure size 640x480 with 1 Axes>"
      ]
     },
     "metadata": {},
     "output_type": "display_data"
    }
   ],
   "source": [
    "# Data Superposition\n",
    "\n",
    "\n",
    "# Opening of Pickle File\n",
    "filename = \"20230221_223614_421166_left_1D-BASELINE_EXP1_2_RobotBaseline.pickle\"\n",
    "fn = os.path.join(os.path.abspath(\"..\"), \"results/\"+filename)\n",
    "with open(fn, 'rb') as file:\n",
    "    baseline_data = pickle.load(file)\n",
    "\n",
    "# Parameter\n",
    "x_org = 320\n",
    "tilt_idx = 0\n",
    "\n",
    "# Data Captured\n",
    "for i in range(len(data_load[\"data\"])):\n",
    "    input_arr = data_load[\"data\"][i][\"input_arr\"]\n",
    "    phi = [px_to_deg_fx(x_org-x[0]) for x in data_load[\"data\"][i][\"pixel_arr\"][tilt_idx]]\n",
    "\n",
    "    # Eye Output vs Input Array\n",
    "    plt.plot(input_arr, phi, marker='.', linestyle=None, color=rand_colors[i])\n",
    "plt.legend(log_cmd_str, fontsize=8)\n",
    "\n",
    "# Line Data Parameters\n",
    "for i in range(len(baseline_data[\"data\"])):\n",
    "    input_arr = baseline_data[\"data\"][i][\"input_arr\"]\n",
    "    phi = [px_to_deg_fx(x_org-x[0]) for x in baseline_data[\"data\"][i][\"pixel_arr\"][tilt_idx]]\n",
    "\n",
    "    # Eye Output vs Input Array\n",
    "    plt.plot(input_arr, phi, color=\"gray\", alpha=0.2)\n",
    "    \n",
    "plt.xlabel('Motor Input, θ (deg)')\n",
    "plt.ylabel('Eye Output, φ (deg)')\n",
    "plt.title('Overshoot Test')\n",
    "plt.grid()"
   ]
  },
  {
   "cell_type": "code",
   "execution_count": 20,
   "id": "d148c8a8",
   "metadata": {
    "ExecuteTime": {
     "end_time": "2023-02-21T14:40:09.083135Z",
     "start_time": "2023-02-21T14:40:08.837590Z"
    }
   },
   "outputs": [
    {
     "data": {
      "text/plain": [
       "(-2.0, 22.0)"
      ]
     },
     "execution_count": 20,
     "metadata": {},
     "output_type": "execute_result"
    },
    {
     "data": {
      "image/png": "[encoded data removed]",
      "text/plain": [
       "<Figure size 640x480 with 1 Axes>"
      ]
     },
     "metadata": {},
     "output_type": "display_data"
    }
   ],
   "source": [
    "# Data Superposition\n",
    "\n",
    "\n",
    "# Opening of Pickle File\n",
    "filename = \"20230221_223614_421166_left_1D-BASELINE_EXP1_2_RobotBaseline.pickle\"\n",
    "fn = os.path.join(os.path.abspath(\"..\"), \"results/\"+filename)\n",
    "with open(fn, 'rb') as file:\n",
    "    baseline_data = pickle.load(file)\n",
    "\n",
    "# Parameter\n",
    "x_org = 320\n",
    "tilt_idx = 0\n",
    "\n",
    "# Data Captured\n",
    "for i in range(len(data_load[\"data\"])):\n",
    "    input_arr = data_load[\"data\"][i][\"input_arr\"]\n",
    "    phi = [px_to_deg_fx(x_org-x[0]) for x in data_load[\"data\"][i][\"pixel_arr\"][tilt_idx]]\n",
    "\n",
    "    # Eye Output vs Input Array\n",
    "    plt.plot(input_arr, phi, marker='.', linestyle=None, color=rand_colors[i])\n",
    "plt.legend(log_cmd_str, fontsize=8)\n",
    "\n",
    "# Line Data Parameters\n",
    "for i in range(len(baseline_data[\"data\"])):\n",
    "    input_arr = baseline_data[\"data\"][i][\"input_arr\"]\n",
    "    phi = [px_to_deg_fx(x_org-x[0]) for x in baseline_data[\"data\"][i][\"pixel_arr\"][tilt_idx]]\n",
    "\n",
    "    # Eye Output vs Input Array\n",
    "    plt.plot(input_arr, phi, color=\"gray\", alpha=0.2)\n",
    "    \n",
    "plt.xlabel('Motor Input, θ (deg)')\n",
    "plt.ylabel('Eye Output, φ (deg)')\n",
    "plt.title('Overshoot Test')\n",
    "plt.grid()\n",
    "plt.xlim([-2, 18])\n",
    "plt.ylim([-2, 22])"
   ]
  },
  {
   "cell_type": "code",
   "execution_count": 55,
   "id": "dda5ecd1",
   "metadata": {
    "ExecuteTime": {
     "end_time": "2023-02-21T14:19:03.046826Z",
     "start_time": "2023-02-21T14:19:03.026233Z"
    }
   },
   "outputs": [],
   "source": [
    "# CSV Data\n",
    "\n",
    "import pandas as pd\n",
    "\n",
    "# Data Captured\n",
    "\n",
    "\n",
    "theta_list = []\n",
    "phi_list = []\n",
    "for i in range(len(data_load[\"data\"])):\n",
    "    input_arr = data_load[\"data\"][i][\"input_arr\"]\n",
    "    phi = [px_to_deg_fx(x_org-x[0]) for x in data_load[\"data\"][i][\"pixel_arr\"][tilt_idx]]\n",
    "    theta_list.extend(input_arr)\n",
    "    phi_list.extend(phi)\n",
    "    \n",
    "csv_data = pd.DataFrame({\"theta\":theta_list,\"phi\":phi_list})\n",
    "csv_data.to_csv(data_filepath[:-6] + \".csv\")"
   ]
  },
  {
   "cell_type": "code",
   "execution_count": null,
   "id": "dee2cfad",
   "metadata": {},
   "outputs": [],
   "source": []
  }
 ],
 "metadata": {
  "kernelspec": {
   "display_name": "Python 3 (ipykernel)",
   "language": "python",
   "name": "python3"
  },
  "language_info": {
   "codemirror_mode": {
    "name": "ipython",
    "version": 3
   },
   "file_extension": ".py",
   "mimetype": "text/x-python",
   "name": "python",
   "nbconvert_exporter": "python",
   "pygments_lexer": "ipython3",
   "version": "3.8.10"
  },
  "toc": {
   "base_numbering": 1,
   "nav_menu": {},
   "number_sections": true,
   "sideBar": true,
   "skip_h1_title": false,
   "title_cell": "Table of Contents",
   "title_sidebar": "Contents",
   "toc_cell": false,
   "toc_position": {},
   "toc_section_display": true,
   "toc_window_display": true
  },
  "varInspector": {
   "cols": {
    "lenName": 16,
    "lenType": 16,
    "lenVar": 40
   },
   "kernels_config": {
    "python": {
     "delete_cmd_postfix": "",
     "delete_cmd_prefix": "del ",
     "library": "var_list.py",
     "varRefreshCmd": "print(var_dic_list())"
    },
    "r": {
     "delete_cmd_postfix": ") ",
     "delete_cmd_prefix": "rm(",
     "library": "var_list.r",
     "varRefreshCmd": "cat(var_dic_list()) "
    }
   },
   "types_to_exclude": [
    "module",
    "function",
    "builtin_function_or_method",
    "instance",
    "_Feature"
   ],
   "window_display": false
  }
 },
 "nbformat": 4,
 "nbformat_minor": 5
}
